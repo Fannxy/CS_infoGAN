{
 "cells": [
  {
   "cell_type": "markdown",
   "metadata": {},
   "source": [
    "## Import packages"
   ]
  },
  {
   "cell_type": "code",
   "execution_count": 28,
   "metadata": {},
   "outputs": [],
   "source": [
    "import pandas as pd\n",
    "import numpy as np"
   ]
  },
  {
   "cell_type": "code",
   "execution_count": 29,
   "metadata": {},
   "outputs": [],
   "source": [
    "import matplotlib.pyplot as plt\n",
    "import os\n",
    "os.environ['KMP_DUPLICATE_LIB_OK']='True'\n",
    "import torchvision.utils as vutils"
   ]
  },
  {
   "cell_type": "code",
   "execution_count": 30,
   "metadata": {},
   "outputs": [],
   "source": [
    "import sys\n",
    "sys.path.append('../')\n",
    "sys.path.append('../final_code')\n",
    "sys.path.append('../InfoGAN-PyTorch')\n",
    "import InfoCS_Solver as infos\n",
    "import LP_Compressed_Sensing as lcs"
   ]
  },
  {
   "cell_type": "markdown",
   "metadata": {},
   "source": [
    "## data load"
   ]
  },
  {
   "cell_type": "code",
   "execution_count": 31,
   "metadata": {},
   "outputs": [],
   "source": [
    "root = './'\n",
    "\n",
    "errors = pd.read_csv(root+'error.csv')\n",
    "ori_data = np.loadtxt(root+'ori_img.txt').reshape((150, 784))\n",
    "con_data = np.loadtxt(root+'constra_img.txt').reshape((150, 784))\n",
    "\n",
    "me_list = np.array(errors['me'])\n",
    "re_list = np.array(errors['re'])\n",
    "num_epoch = np.array(errors['nc'])"
   ]
  },
  {
   "cell_type": "code",
   "execution_count": 32,
   "metadata": {},
   "outputs": [],
   "source": [
    "re_10 = re_list[:50]\n",
    "ori_10 = ori_data[:50]\n",
    "epoch_10 = num_epoch[:50]\n",
    "con_10 = con_data[:50]\n",
    "index_10 = np.argsort(re_10)\n",
    "\n",
    "\n",
    "re_125 = re_list[50:100]\n",
    "ori_125 = ori_data[50:100]\n",
    "epoch_125 = num_epoch[50:100]\n",
    "con_125 = con_data[50:100]\n",
    "index_125 = np.argsort(re_125)\n",
    "\n",
    "\n",
    "re_15 = re_list[100:]\n",
    "ori_15 = ori_data[100:]\n",
    "epoch_15 = num_epoch[100:]\n",
    "con_125 = con_data[100:]\n",
    "index_15 = np.argsort(re_15)"
   ]
  },
  {
   "cell_type": "code",
   "execution_count": 113,
   "metadata": {},
   "outputs": [
    {
     "data": {
      "text/plain": [
       "0.0009611401424883618"
      ]
     },
     "execution_count": 113,
     "metadata": {},
     "output_type": "execute_result"
    }
   ],
   "source": [
    "index_me = np.argsort(me_list)\n",
    "num = np.sum(me_list >= 0.001)\n",
    "\n",
    "np.mean(me_list[index_me[:-14]])"
   ]
  },
  {
   "cell_type": "code",
   "execution_count": 19,
   "metadata": {},
   "outputs": [
    {
     "data": {
      "text/plain": [
       "34.27501601106772"
      ]
     },
     "execution_count": 19,
     "metadata": {},
     "output_type": "execute_result"
    }
   ],
   "source": [
    "np.mean(re_125)"
   ]
  },
  {
   "cell_type": "code",
   "execution_count": 20,
   "metadata": {},
   "outputs": [
    {
     "data": {
      "text/plain": [
       "32.809843493404884"
      ]
     },
     "execution_count": 20,
     "metadata": {},
     "output_type": "execute_result"
    }
   ],
   "source": [
    "np.mean(re_15)"
   ]
  },
  {
   "cell_type": "code",
   "execution_count": 115,
   "metadata": {},
   "outputs": [
    {
     "data": {
      "text/plain": [
       "10693.88"
      ]
     },
     "execution_count": 115,
     "metadata": {},
     "output_type": "execute_result"
    }
   ],
   "source": [
    "np.mean(num_epoch[:50])"
   ]
  },
  {
   "cell_type": "markdown",
   "metadata": {},
   "source": [
    "## error analysis"
   ]
  },
  {
   "cell_type": "code",
   "execution_count": null,
   "metadata": {},
   "outputs": [],
   "source": []
  },
  {
   "cell_type": "code",
   "execution_count": null,
   "metadata": {},
   "outputs": [],
   "source": []
  },
  {
   "cell_type": "code",
   "execution_count": null,
   "metadata": {},
   "outputs": [],
   "source": []
  },
  {
   "cell_type": "code",
   "execution_count": null,
   "metadata": {},
   "outputs": [],
   "source": []
  },
  {
   "cell_type": "code",
   "execution_count": 89,
   "metadata": {},
   "outputs": [
    {
     "name": "stdout",
     "output_type": "stream",
     "text": [
      "mean:  31.0869403652195\n",
      "max:  58.69697915484179\n",
      "min:  13.880774000696467\n"
     ]
    }
   ],
   "source": [
    "#reconstruction error\n",
    "arg_re = np.argsort(re_list)\n",
    "\n",
    "mean_re = np.mean(re_list)\n",
    "print(\"mean: \", mean_re)\n",
    "\n",
    "# max_nc\n",
    "max_re = np.max(re_list)\n",
    "print(\"max: \", max_re)\n",
    "\n",
    "#min_nc\n",
    "min_re = np.min(re_list)\n",
    "print(\"min: \", min_re)\n",
    "\n",
    "arg_re = np.argsort(re_list)"
   ]
  },
  {
   "cell_type": "code",
   "execution_count": 90,
   "metadata": {},
   "outputs": [
    {
     "data": {
      "text/plain": [
       "20.07371810101554"
      ]
     },
     "execution_count": 90,
     "metadata": {},
     "output_type": "execute_result"
    }
   ],
   "source": [
    "re_list[45]"
   ]
  },
  {
   "cell_type": "code",
   "execution_count": 91,
   "metadata": {},
   "outputs": [
    {
     "data": {
      "text/plain": [
       "36.301301703116444"
      ]
     },
     "execution_count": 91,
     "metadata": {},
     "output_type": "execute_result"
    }
   ],
   "source": [
    "re_list[27]"
   ]
  },
  {
   "cell_type": "code",
   "execution_count": 92,
   "metadata": {},
   "outputs": [
    {
     "name": "stdout",
     "output_type": "stream",
     "text": [
      "mean:  0.0009621008846443146\n",
      "max:  0.0009995996952056883\n",
      "min:  0.00015927106142044067\n"
     ]
    }
   ],
   "source": [
    "mean_me = np.mean(me_list)\n",
    "print(\"mean: \", mean_me)\n",
    "\n",
    "# max_nc\n",
    "max_me = np.max(me_list)\n",
    "print(\"max: \", max_me)\n",
    "\n",
    "#min_nc\n",
    "min_me = np.min(me_list)\n",
    "print(\"min: \", min_me)\n"
   ]
  },
  {
   "cell_type": "code",
   "execution_count": null,
   "metadata": {},
   "outputs": [],
   "source": []
  },
  {
   "cell_type": "markdown",
   "metadata": {},
   "source": [
    "IMAGE\n",
    "--------"
   ]
  },
  {
   "cell_type": "code",
   "execution_count": 104,
   "metadata": {},
   "outputs": [],
   "source": [
    "num = 10\n",
    "index = np.argsort(re_list)\n",
    "index = index[[14, 16, 17, 1, 30, 31, 42, 43, 46, 68]]\n"
   ]
  },
  {
   "cell_type": "code",
   "execution_count": 105,
   "metadata": {},
   "outputs": [],
   "source": [
    "ori_sample = ori_data[index]\n",
    "con_sample = con_data[index]"
   ]
  },
  {
   "cell_type": "code",
   "execution_count": null,
   "metadata": {},
   "outputs": [],
   "source": []
  },
  {
   "cell_type": "code",
   "execution_count": 106,
   "metadata": {},
   "outputs": [
    {
     "data": {
      "image/png": "[encoded data removed]",
      "text/plain": [
       "<Figure size 720x144 with 20 Axes>"
      ]
     },
     "metadata": {},
     "output_type": "display_data"
    }
   ],
   "source": [
    "n_col = num\n",
    "n_row = 2\n",
    "\n",
    "fig, axes = plt.subplots(figsize=(10, 2), nrows=n_row, ncols=n_col, sharex=True, sharey=True)\n",
    "plt.subplots_adjust(wspace =0.1, hspace =0.1)\n",
    "\n",
    "for i in range(n_row):\n",
    "    for j in range(n_col):\n",
    "        if i == 0:\n",
    "            axes[i][j].imshow(ori_sample[j].reshape((28, 28)), cmap='Greys_r')\n",
    "        #elif i ==1:\n",
    "        #    axes[i][j].imshow(tar_ini[j].reshape((28, 28)), cmap='Greys_r')\n",
    "        else:\n",
    "            axes[i][j].imshow(con_sample[j].reshape((28, 28)), cmap='Greys_r')\n",
    "plt.xticks([])\n",
    "plt.yticks([])\n",
    "plt.axis('off')\n",
    "plt.savefig(root+'samples.png')"
   ]
  },
  {
   "cell_type": "code",
   "execution_count": null,
   "metadata": {},
   "outputs": [],
   "source": []
  },
  {
   "cell_type": "code",
   "execution_count": null,
   "metadata": {},
   "outputs": [],
   "source": []
  },
  {
   "cell_type": "markdown",
   "metadata": {},
   "source": [
    "## data analysis "
   ]
  },
  {
   "cell_type": "code",
   "execution_count": 132,
   "metadata": {},
   "outputs": [],
   "source": [
    "min_recover_list = np.argsort(re_list)[:10]"
   ]
  },
  {
   "cell_type": "code",
   "execution_count": 133,
   "metadata": {},
   "outputs": [
    {
     "data": {
      "text/plain": [
       "array([ 8, 14, 42, 26, 18, 40, 11, 22, 29, 35])"
      ]
     },
     "execution_count": 133,
     "metadata": {},
     "output_type": "execute_result"
    }
   ],
   "source": [
    "min_recover_list"
   ]
  },
  {
   "cell_type": "code",
   "execution_count": 134,
   "metadata": {},
   "outputs": [
    {
     "data": {
      "text/plain": [
       "13.914270713550197"
      ]
     },
     "execution_count": 134,
     "metadata": {},
     "output_type": "execute_result"
    }
   ],
   "source": [
    "np.min(re_list)"
   ]
  },
  {
   "cell_type": "code",
   "execution_count": 135,
   "metadata": {},
   "outputs": [
    {
     "data": {
      "text/plain": [
       "31.862426584921124"
      ]
     },
     "execution_count": 135,
     "metadata": {},
     "output_type": "execute_result"
    }
   ],
   "source": [
    "np.average(re_list)"
   ]
  },
  {
   "cell_type": "code",
   "execution_count": 136,
   "metadata": {},
   "outputs": [
    {
     "data": {
      "text/plain": [
       "1.9939187679624106"
      ]
     },
     "execution_count": 136,
     "metadata": {},
     "output_type": "execute_result"
    }
   ],
   "source": [
    "np.average(me_list)"
   ]
  },
  {
   "cell_type": "code",
   "execution_count": 129,
   "metadata": {},
   "outputs": [
    {
     "data": {
      "text/plain": [
       "array([ 2, 55, 33, 40, 20, 11, 53,  9, 41, 24, 15,  3, 22, 23, 27, 46,  6,\n",
       "       47,  4, 14, 13, 39,  8, 16, 12, 56,  5, 18, 57, 52, 19, 34, 10, 59,\n",
       "       21, 26, 48, 51, 49, 31, 38, 35, 37, 25,  1, 30, 54, 36, 17, 45, 42,\n",
       "        7,  0, 58, 44, 32, 28, 50, 29, 43])"
      ]
     },
     "execution_count": 129,
     "metadata": {},
     "output_type": "execute_result"
    }
   ],
   "source": [
    "np.argsort(me_list)"
   ]
  },
  {
   "cell_type": "code",
   "execution_count": 137,
   "metadata": {},
   "outputs": [
    {
     "data": {
      "text/plain": [
       "0.0009565508906666379"
      ]
     },
     "execution_count": 137,
     "metadata": {},
     "output_type": "execute_result"
    }
   ],
   "source": [
    "np.mean(np.sort(me_list)[:-1])"
   ]
  },
  {
   "cell_type": "code",
   "execution_count": 138,
   "metadata": {},
   "outputs": [
    {
     "name": "stdout",
     "output_type": "stream",
     "text": [
      "1\n"
     ]
    }
   ],
   "source": [
    "fail = 0\n",
    "for i in range(len(me_list)):\n",
    "    if me_list[i] >= 0.01:\n",
    "        fail+=1\n",
    "print(fail)"
   ]
  },
  {
   "cell_type": "markdown",
   "metadata": {},
   "source": [
    "## best images"
   ]
  },
  {
   "cell_type": "code",
   "execution_count": 145,
   "metadata": {},
   "outputs": [],
   "source": [
    "tar_ori = init_data[min_recover_list][-4:]\n",
    "tar_con = con_list[min_recover_list][-4:]"
   ]
  },
  {
   "cell_type": "code",
   "execution_count": 147,
   "metadata": {},
   "outputs": [
    {
     "data": {
      "image/png": "[encoded data removed]",
      "text/plain": [
       "<Figure size 576x288 with 8 Axes>"
      ]
     },
     "metadata": {},
     "output_type": "display_data"
    }
   ],
   "source": [
    "n_col = 4\n",
    "n_row = 2\n",
    "\n",
    "fig, axes = plt.subplots(figsize=(8, 4), nrows=n_row, ncols=n_col, sharex=True, sharey=True)\n",
    "plt.subplots_adjust(wspace =0.1, hspace =0.1)\n",
    "\n",
    "for i in range(n_row):\n",
    "    for j in range(n_col):\n",
    "        if i == 0:\n",
    "            axes[i][j].imshow(tar_ori[j].reshape((28, 28)), cmap='Greys_r')\n",
    "        else:\n",
    "            axes[i][j].imshow(tar_con[j].reshape((28, 28)), cmap='Greys_r')\n",
    "plt.xticks([])\n",
    "plt.yticks([])\n",
    "plt.axis('off')\n",
    "plt.savefig('./recover_20/best_img.png')"
   ]
  },
  {
   "cell_type": "code",
   "execution_count": 22,
   "metadata": {},
   "outputs": [
    {
     "data": {
      "text/plain": [
       "13.90883060932865"
      ]
     },
     "execution_count": 22,
     "metadata": {},
     "output_type": "execute_result"
    }
   ],
   "source": [
    "final_calculating_error(tar_con[0], tar_ori[0])"
   ]
  },
  {
   "cell_type": "code",
   "execution_count": null,
   "metadata": {},
   "outputs": [],
   "source": []
  }
 ],
 "metadata": {
  "kernelspec": {
   "display_name": "Python 3",
   "language": "python",
   "name": "python3"
  },
  "language_info": {
   "codemirror_mode": {
    "name": "ipython",
    "version": 3
   },
   "file_extension": ".py",
   "mimetype": "text/x-python",
   "name": "python",
   "nbconvert_exporter": "python",
   "pygments_lexer": "ipython3",
   "version": "3.7.3"
  }
 },
 "nbformat": 4,
 "nbformat_minor": 2
}
