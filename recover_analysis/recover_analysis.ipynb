{
 "cells": [
  {
   "cell_type": "markdown",
   "metadata": {},
   "source": [
    "## Import packages"
   ]
  },
  {
   "cell_type": "code",
   "execution_count": 1,
   "metadata": {},
   "outputs": [],
   "source": [
    "import pandas as pd\n",
    "import numpy as np"
   ]
  },
  {
   "cell_type": "code",
   "execution_count": 2,
   "metadata": {},
   "outputs": [],
   "source": [
    "import matplotlib.pyplot as plt\n",
    "import os\n",
    "os.environ['KMP_DUPLICATE_LIB_OK']='True'\n",
    "import torchvision.utils as vutils"
   ]
  },
  {
   "cell_type": "code",
   "execution_count": 3,
   "metadata": {},
   "outputs": [],
   "source": [
    "import sys\n",
    "sys.path.append('../')\n",
    "sys.path.append('../final_code')\n",
    "sys.path.append('../InfoGAN-PyTorch')\n",
    "import InfoCS_Solver as infos\n",
    "import LP_Compressed_Sensing as lcs"
   ]
  },
  {
   "cell_type": "code",
   "execution_count": null,
   "metadata": {},
   "outputs": [],
   "source": []
  },
  {
   "cell_type": "markdown",
   "metadata": {},
   "source": [
    "## data load"
   ]
  },
  {
   "cell_type": "code",
   "execution_count": 121,
   "metadata": {},
   "outputs": [],
   "source": [
    "root = './recover_result/recover_30/'\n",
    "\n",
    "errors = pd.read_csv(root+'error.csv')\n",
    "ori_data = np.loadtxt(root+'ori_img.txt').reshape((50, 784))\n",
    "con_data = np.loadtxt(root+'/constra_img.txt').reshape((50, 784))\n",
    "init_data = np.loadtxt(root+'init_img.txt').reshape((50, 784))\n",
    "\n",
    "me_list = np.array(errors['me'])\n",
    "num_epoch = np.array(errors['nc'])"
   ]
  },
  {
   "cell_type": "code",
   "execution_count": 122,
   "metadata": {},
   "outputs": [],
   "source": [
    "def final_calculating_error(constra, original):\n",
    "    constra = np.array(constra).reshape((28, 28))\n",
    "    original = np.array(original).reshape((28, 28))\n",
    "    error = (constra - original)**2\n",
    "    error = np.sqrt(error)\n",
    "    error = np.average(error)\n",
    "\n",
    "    return error\n",
    "\n",
    "# rescale reconstruction error\n",
    "re_list = []\n",
    "for i in range(50):\n",
    "    re = final_calculating_error(con_data[i], ori_data[i])\n",
    "    re_list.append(re)\n",
    "re_list = np.array(re_list)"
   ]
  },
  {
   "cell_type": "code",
   "execution_count": null,
   "metadata": {},
   "outputs": [],
   "source": []
  },
  {
   "cell_type": "code",
   "execution_count": null,
   "metadata": {},
   "outputs": [],
   "source": []
  },
  {
   "cell_type": "code",
   "execution_count": null,
   "metadata": {},
   "outputs": [],
   "source": []
  },
  {
   "cell_type": "markdown",
   "metadata": {},
   "source": [
    "## error analysis"
   ]
  },
  {
   "cell_type": "code",
   "execution_count": 123,
   "metadata": {},
   "outputs": [
    {
     "name": "stdout",
     "output_type": "stream",
     "text": [
      "34\n"
     ]
    }
   ],
   "source": [
    "# failure times\n",
    "fail = 0\n",
    "for i in range(len(me_list)):\n",
    "    if me_list[i] >= 0.1:\n",
    "        fail+=1\n",
    "        \n",
    "arg_sort_res = np.argsort(me_list)\n",
    "success_index = arg_sort_res[:-fail]\n",
    "fail_index = arg_sort_res[-fail:]\n",
    "print(fail)"
   ]
  },
  {
   "cell_type": "code",
   "execution_count": null,
   "metadata": {},
   "outputs": [],
   "source": []
  },
  {
   "cell_type": "code",
   "execution_count": 124,
   "metadata": {},
   "outputs": [
    {
     "name": "stdout",
     "output_type": "stream",
     "text": [
      "mean:  26491.125\n",
      "max:  48994\n",
      "min:  12258\n"
     ]
    }
   ],
   "source": [
    "# mean epochs\n",
    "mean_nc = np.mean(num_epoch[success_index])\n",
    "print(\"mean: \", mean_nc)\n",
    "\n",
    "# max_nc\n",
    "max_nc = np.max(num_epoch[success_index])\n",
    "print(\"max: \", max_nc)\n",
    "\n",
    "#min_nc\n",
    "min_nc = np.min(num_epoch[success_index])\n",
    "print(\"min: \", min_nc)"
   ]
  },
  {
   "cell_type": "code",
   "execution_count": 157,
   "metadata": {},
   "outputs": [
    {
     "data": {
      "text/plain": [
       "array([ 8, 10,  5, 12,  4, 14,  7, 13, 11,  9,  0,  1,  2, 15,  6,  3])"
      ]
     },
     "execution_count": 157,
     "metadata": {},
     "output_type": "execute_result"
    }
   ],
   "source": [
    "arg_re"
   ]
  },
  {
   "cell_type": "code",
   "execution_count": null,
   "metadata": {},
   "outputs": [],
   "source": []
  },
  {
   "cell_type": "code",
   "execution_count": 158,
   "metadata": {},
   "outputs": [
    {
     "name": "stdout",
     "output_type": "stream",
     "text": [
      "mean:  31.10170245825128\n",
      "max:  58.7129087719922\n",
      "min:  13.921197793142946\n"
     ]
    }
   ],
   "source": [
    "#reconstruction error\n",
    "arg_re = np.argsort(re_list[success_index])\n",
    "\n",
    "mean_re = np.mean(re_list[success_index])\n",
    "print(\"mean: \", mean_re)\n",
    "\n",
    "# max_nc\n",
    "max_re = np.max(re_list[success_index])\n",
    "print(\"max: \", max_re)\n",
    "\n",
    "#min_nc\n",
    "min_re = np.min(re_list[success_index])\n",
    "print(\"min: \", min_re)\n",
    "\n",
    "arg_re = np.argsort(re_list[success_index])"
   ]
  },
  {
   "cell_type": "code",
   "execution_count": 132,
   "metadata": {},
   "outputs": [
    {
     "name": "stdout",
     "output_type": "stream",
     "text": [
      "mean:  0.0009584839426679537\n",
      "max:  0.0009999368339776993\n",
      "min:  0.0006405815947800875\n"
     ]
    }
   ],
   "source": [
    "mean_me = np.mean(me_list[success_index])\n",
    "print(\"mean: \", mean_me)\n",
    "\n",
    "# max_nc\n",
    "max_me = np.max(me_list[success_index])\n",
    "print(\"max: \", max_me)\n",
    "\n",
    "#min_nc\n",
    "min_me = np.min(me_list[success_index])\n",
    "print(\"min: \", min_me)\n"
   ]
  },
  {
   "cell_type": "code",
   "execution_count": null,
   "metadata": {},
   "outputs": [],
   "source": []
  },
  {
   "cell_type": "markdown",
   "metadata": {},
   "source": [
    "IMAGE\n",
    "--------"
   ]
  },
  {
   "cell_type": "code",
   "execution_count": 116,
   "metadata": {},
   "outputs": [],
   "source": [
    "num = 4\n",
    "tar_ori = ori_data[arg_re[:num]]\n",
    "tar_con = con_data[arg_re[:num]]"
   ]
  },
  {
   "cell_type": "code",
   "execution_count": 117,
   "metadata": {},
   "outputs": [
    {
     "data": {
      "image/png": "[encoded data removed]",
      "text/plain": [
       "<Figure size 576x288 with 8 Axes>"
      ]
     },
     "metadata": {},
     "output_type": "display_data"
    }
   ],
   "source": [
    "n_col = num\n",
    "n_row = 2\n",
    "\n",
    "fig, axes = plt.subplots(figsize=(8, 4), nrows=n_row, ncols=n_col, sharex=True, sharey=True)\n",
    "plt.subplots_adjust(wspace =0.1, hspace =0.1)\n",
    "\n",
    "for i in range(n_row):\n",
    "    for j in range(n_col):\n",
    "        if i == 0:\n",
    "            axes[i][j].imshow(tar_ori[j].reshape((28, 28)), cmap='Greys_r')\n",
    "        else:\n",
    "            axes[i][j].imshow(tar_con[j].reshape((28, 28)), cmap='Greys_r')\n",
    "plt.xticks([])\n",
    "plt.yticks([])\n",
    "plt.axis('off')\n",
    "plt.savefig(root+'img1.png')"
   ]
  },
  {
   "cell_type": "code",
   "execution_count": null,
   "metadata": {},
   "outputs": [],
   "source": []
  },
  {
   "cell_type": "code",
   "execution_count": null,
   "metadata": {},
   "outputs": [],
   "source": []
  },
  {
   "cell_type": "markdown",
   "metadata": {},
   "source": [
    "## data analysis "
   ]
  },
  {
   "cell_type": "code",
   "execution_count": 132,
   "metadata": {},
   "outputs": [],
   "source": [
    "min_recover_list = np.argsort(re_list)[:10]"
   ]
  },
  {
   "cell_type": "code",
   "execution_count": 133,
   "metadata": {},
   "outputs": [
    {
     "data": {
      "text/plain": [
       "array([ 8, 14, 42, 26, 18, 40, 11, 22, 29, 35])"
      ]
     },
     "execution_count": 133,
     "metadata": {},
     "output_type": "execute_result"
    }
   ],
   "source": [
    "min_recover_list"
   ]
  },
  {
   "cell_type": "code",
   "execution_count": 134,
   "metadata": {},
   "outputs": [
    {
     "data": {
      "text/plain": [
       "13.914270713550197"
      ]
     },
     "execution_count": 134,
     "metadata": {},
     "output_type": "execute_result"
    }
   ],
   "source": [
    "np.min(re_list)"
   ]
  },
  {
   "cell_type": "code",
   "execution_count": 135,
   "metadata": {},
   "outputs": [
    {
     "data": {
      "text/plain": [
       "31.862426584921124"
      ]
     },
     "execution_count": 135,
     "metadata": {},
     "output_type": "execute_result"
    }
   ],
   "source": [
    "np.average(re_list)"
   ]
  },
  {
   "cell_type": "code",
   "execution_count": 136,
   "metadata": {},
   "outputs": [
    {
     "data": {
      "text/plain": [
       "1.9939187679624106"
      ]
     },
     "execution_count": 136,
     "metadata": {},
     "output_type": "execute_result"
    }
   ],
   "source": [
    "np.average(me_list)"
   ]
  },
  {
   "cell_type": "code",
   "execution_count": 129,
   "metadata": {},
   "outputs": [
    {
     "data": {
      "text/plain": [
       "array([ 2, 55, 33, 40, 20, 11, 53,  9, 41, 24, 15,  3, 22, 23, 27, 46,  6,\n",
       "       47,  4, 14, 13, 39,  8, 16, 12, 56,  5, 18, 57, 52, 19, 34, 10, 59,\n",
       "       21, 26, 48, 51, 49, 31, 38, 35, 37, 25,  1, 30, 54, 36, 17, 45, 42,\n",
       "        7,  0, 58, 44, 32, 28, 50, 29, 43])"
      ]
     },
     "execution_count": 129,
     "metadata": {},
     "output_type": "execute_result"
    }
   ],
   "source": [
    "np.argsort(me_list)"
   ]
  },
  {
   "cell_type": "code",
   "execution_count": 137,
   "metadata": {},
   "outputs": [
    {
     "data": {
      "text/plain": [
       "0.0009565508906666379"
      ]
     },
     "execution_count": 137,
     "metadata": {},
     "output_type": "execute_result"
    }
   ],
   "source": [
    "np.mean(np.sort(me_list)[:-1])"
   ]
  },
  {
   "cell_type": "code",
   "execution_count": 138,
   "metadata": {},
   "outputs": [
    {
     "name": "stdout",
     "output_type": "stream",
     "text": [
      "1\n"
     ]
    }
   ],
   "source": [
    "fail = 0\n",
    "for i in range(len(me_list)):\n",
    "    if me_list[i] >= 0.01:\n",
    "        fail+=1\n",
    "print(fail)"
   ]
  },
  {
   "cell_type": "markdown",
   "metadata": {},
   "source": [
    "## best images"
   ]
  },
  {
   "cell_type": "code",
   "execution_count": 145,
   "metadata": {},
   "outputs": [],
   "source": [
    "tar_ori = init_data[min_recover_list][-4:]\n",
    "tar_con = con_list[min_recover_list][-4:]"
   ]
  },
  {
   "cell_type": "code",
   "execution_count": 147,
   "metadata": {},
   "outputs": [
    {
     "data": {
      "image/png": "[encoded data removed]",
      "text/plain": [
       "<Figure size 576x288 with 8 Axes>"
      ]
     },
     "metadata": {},
     "output_type": "display_data"
    }
   ],
   "source": [
    "n_col = 4\n",
    "n_row = 2\n",
    "\n",
    "fig, axes = plt.subplots(figsize=(8, 4), nrows=n_row, ncols=n_col, sharex=True, sharey=True)\n",
    "plt.subplots_adjust(wspace =0.1, hspace =0.1)\n",
    "\n",
    "for i in range(n_row):\n",
    "    for j in range(n_col):\n",
    "        if i == 0:\n",
    "            axes[i][j].imshow(tar_ori[j].reshape((28, 28)), cmap='Greys_r')\n",
    "        else:\n",
    "            axes[i][j].imshow(tar_con[j].reshape((28, 28)), cmap='Greys_r')\n",
    "plt.xticks([])\n",
    "plt.yticks([])\n",
    "plt.axis('off')\n",
    "plt.savefig('./recover_20/best_img.png')"
   ]
  },
  {
   "cell_type": "code",
   "execution_count": 22,
   "metadata": {},
   "outputs": [
    {
     "data": {
      "text/plain": [
       "13.90883060932865"
      ]
     },
     "execution_count": 22,
     "metadata": {},
     "output_type": "execute_result"
    }
   ],
   "source": [
    "final_calculating_error(tar_con[0], tar_ori[0])"
   ]
  },
  {
   "cell_type": "code",
   "execution_count": null,
   "metadata": {},
   "outputs": [],
   "source": []
  }
 ],
 "metadata": {
  "kernelspec": {
   "display_name": "Python 3",
   "language": "python",
   "name": "python3"
  },
  "language_info": {
   "codemirror_mode": {
    "name": "ipython",
    "version": 3
   },
   "file_extension": ".py",
   "mimetype": "text/x-python",
   "name": "python",
   "nbconvert_exporter": "python",
   "pygments_lexer": "ipython3",
   "version": "3.7.3"
  }
 },
 "nbformat": 4,
 "nbformat_minor": 2
}
